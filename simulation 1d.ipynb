{
 "cells": [
  {
   "cell_type": "code",
   "execution_count": 1,
   "id": "3695628b-5dff-4a1d-b2ee-7ff8eac01b75",
   "metadata": {},
   "outputs": [],
   "source": [
    "import requests\n",
    "import pandas as pd\n",
    "import time\n",
    "import numpy as np\n",
    "from datetime import datetime\n",
    "\n",
    "# Import the agent classes\n",
    "from agent_ma import MovingAverageCrossoverAgent\n",
    "from agent_dummy import DummyAgent\n",
    "from agent_BollingerBands import BollingerBandsAgent\n",
    "from agent_macd import MACDAgent\n",
    "from agent_momentum import MomentumAgent\n",
    "from agent_mr import MeanReversionAgent\n",
    "from agent_rsi import RSIAgent\n",
    "from agent_composite import CompositeAgent\n",
    "from agent_emav import EMAVAgent\n"
   ]
  },
  {
   "cell_type": "markdown",
   "id": "055d8e5b",
   "metadata": {},
   "source": [
    "# Fetch live data from Binance API"
   ]
  },
  {
   "cell_type": "code",
   "execution_count": 2,
   "id": "5548b56d",
   "metadata": {},
   "outputs": [],
   "source": [
    "def fetch_live_data(symbol='BTCUSDT', interval='1m'):\n",
    "    url = f'https://api.binance.com/api/v3/klines?symbol={symbol}&interval={interval}&limit=1'\n",
    "    response = requests.get(url)\n",
    "    data = response.json()\n",
    "    latest_data = data[0]\n",
    "    return {\n",
    "        'timestamp': pd.to_datetime(latest_data[0], unit='ms'),\n",
    "        'Open': float(latest_data[1]),\n",
    "        'High': float(latest_data[2]),\n",
    "        'Low': float(latest_data[3]),\n",
    "        'Close': float(latest_data[4]),\n",
    "        'Volume': float(latest_data[5])\n",
    "    }\n"
   ]
  },
  {
   "cell_type": "markdown",
   "id": "e1b8e53e",
   "metadata": {},
   "source": [
    "# Fetch historical data from Binance API"
   ]
  },
  {
   "cell_type": "code",
   "execution_count": 3,
   "id": "4e15e7a2",
   "metadata": {},
   "outputs": [],
   "source": [
    "def fetch_historical_data(symbol, interval, limit=1000):\n",
    "    \"\"\"\n",
    "    interval:\n",
    "    1m, 3m, 5m, 15m, 30m\n",
    "    1h, 2h, 4h, 6h, 8h, 12h,\n",
    "    1d, 3d, 1w, 1M\n",
    "    \"\"\"\n",
    "    url = f'https://api.binance.com/api/v3/klines?symbol={symbol}&interval={interval}&limit={limit}'\n",
    "    response = requests.get(url)\n",
    "    data = response.json()\n",
    "    df = pd.DataFrame(data, columns=['timestamp', 'open', 'high', 'low', 'close', 'volume', 'close_time', 'quote_asset_volume', 'number_of_trades', 'taker_buy_base_asset_volume', 'taker_buy_quote_asset_volume', 'ignore'])\n",
    "    df['timestamp'] = pd.to_datetime(df['timestamp'], unit='ms')\n",
    "    df.set_index('timestamp', inplace=True)\n",
    "    df = df[['open', 'high', 'low', 'close', 'volume']].astype(float)\n",
    "    df.rename(columns={'open': 'Open', 'high': 'High', 'low': 'Low', 'close': 'Close', 'volume': 'Volume'}, inplace=True)\n",
    "    return df"
   ]
  },
  {
   "cell_type": "markdown",
   "id": "d279f7cd",
   "metadata": {},
   "source": [
    "# Preprocess data by adding returns"
   ]
  },
  {
   "cell_type": "code",
   "execution_count": 4,
   "id": "e0a4964e",
   "metadata": {},
   "outputs": [],
   "source": [
    "def preprocess_data(df):\n",
    "    df['returns'] = df['Close'].pct_change()\n",
    "    return df\n"
   ]
  },
  {
   "cell_type": "markdown",
   "id": "14f82d31",
   "metadata": {},
   "source": [
    "# Function to update the DataFrame with new live data"
   ]
  },
  {
   "cell_type": "code",
   "execution_count": 5,
   "id": "64afeb33",
   "metadata": {},
   "outputs": [],
   "source": [
    "# Function to update the DataFrame with new live data\n",
    "def update_data(df):\n",
    "    live_data = fetch_live_data()\n",
    "    new_data = pd.DataFrame([live_data])\n",
    "    new_data.set_index('timestamp', inplace=True)\n",
    "    \n",
    "    df = pd.concat([df, new_data])\n",
    "    df = preprocess_data(df)\n",
    "    return df\n"
   ]
  },
  {
   "cell_type": "markdown",
   "id": "096f2174",
   "metadata": {},
   "source": [
    "# Initialize"
   ]
  },
  {
   "cell_type": "code",
   "execution_count": 6,
   "id": "3aa55e1b",
   "metadata": {},
   "outputs": [],
   "source": [
    "# Initialize DataFrame to store live data\n",
    "df = pd.DataFrame(columns=['timestamp', 'Open', 'High', 'Low', 'Close', 'Volume'])\n",
    "\n",
    "# Initialize agents\n",
    "mac_agent = MovingAverageCrossoverAgent()\n",
    "dummy_agent = DummyAgent()\n",
    "mean_reversion_agent = MeanReversionAgent()\n",
    "momentum_agent = MomentumAgent()\n",
    "macd_agent = MACDAgent()\n",
    "bollinger_bands_agent = BollingerBandsAgent()\n",
    "rsi_agent = RSIAgent()\n",
    "composite_agent = CompositeAgent()\n",
    "emav_agent = EMAVAgent()"
   ]
  },
  {
   "cell_type": "markdown",
   "id": "11224e28",
   "metadata": {},
   "source": [
    "# Trade"
   ]
  },
  {
   "cell_type": "code",
   "execution_count": 7,
   "id": "2c832d42",
   "metadata": {},
   "outputs": [
    {
     "name": "stdout",
     "output_type": "stream",
     "text": [
      "Running update for interval: 1 day\n",
      "2024-07-24 00:28:13.205809: MAC Hold\n",
      "2024-07-24 00:28:13.205809: Dummy Hold\n",
      "2024-07-24 00:28:13.206817: Mean Reversion Hold\n",
      "2024-07-24 00:28:13.207817: Momentum Hold\n",
      "2024-07-24 00:28:13.208844: MACD Hold\n",
      "2024-07-24 00:28:13.209993: Bollinger Bands Hold\n",
      "2024-07-24 00:28:13.211003: SMA-RSI Hold\n",
      "2024-07-24 00:28:13.213612: Composite Agent Hold\n",
      "2024-07-24 00:28:13.213612: EMA-Volume Hold\n",
      "1 day - MAC Agent Portfolio Value: 100000.0\n",
      "1 day - Dummy Agent Portfolio Value: 100000.0\n",
      "1 day - MeanReversion Agent Portfolio Value: 100000.0\n",
      "1 day - Momentum Agent Portfolio Value: 100000.0\n",
      "1 day - MACD Agent Portfolio Value: 100000.0\n",
      "1 day - BollingerBands Agent Portfolio Value: 100000.0\n",
      "1 day - RSI Agent Portfolio Value: 100000.0\n",
      "1 day - Composite Agent Portfolio Value: 100000.0\n",
      "1 day - EMAV Agent Portfolio Value: 100000.0\n"
     ]
    },
    {
     "name": "stderr",
     "output_type": "stream",
     "text": [
      "C:\\Users\\Pawat_Pai\\AppData\\Local\\Temp\\ipykernel_36568\\3663338114.py:7: FutureWarning: The behavior of array concatenation with empty entries is deprecated. In a future version, this will no longer exclude empty items when determining the result dtype. To retain the old behavior, exclude the empty entries before the concat operation.\n",
      "  df = pd.concat([df, new_data])\n",
      "C:\\Users\\Pawat_Pai\\AppData\\Local\\Temp\\ipykernel_36568\\3663338114.py:7: FutureWarning: The behavior of DataFrame concatenation with empty or all-NA entries is deprecated. In a future version, this will no longer exclude empty or all-NA columns when determining the result dtypes. To retain the old behavior, exclude the relevant entries before the concat operation.\n",
      "  df = pd.concat([df, new_data])\n"
     ]
    },
    {
     "name": "stdout",
     "output_type": "stream",
     "text": [
      "Running update for interval: 1 day\n",
      "2024-07-24 00:29:13.359895: MAC Hold\n",
      "2024-07-24 00:29:13.360900: Dummy Hold\n",
      "2024-07-24 00:29:13.361906: Mean Reversion Hold\n",
      "2024-07-24 00:29:13.361906: Momentum Hold\n",
      "2024-07-24 00:29:13.364909: Bollinger Bands Hold\n",
      "2024-07-24 00:29:13.366481: SMA-RSI Buy at 66007.99\n",
      "2024-07-24 00:29:13.367495: Composite Agent Hold\n",
      "2024-07-24 00:29:13.367495: EMA-Volume Hold\n",
      "1 day - MAC Agent Portfolio Value: 100000.0\n",
      "1 day - Dummy Agent Portfolio Value: 100000.0\n",
      "1 day - MeanReversion Agent Portfolio Value: 100000.0\n",
      "1 day - Momentum Agent Portfolio Value: 100000.0\n",
      "1 day - MACD Agent Portfolio Value: 100000.0\n",
      "1 day - BollingerBands Agent Portfolio Value: 100000.0\n",
      "1 day - RSI Agent Portfolio Value: 100000.0\n",
      "1 day - Composite Agent Portfolio Value: 100000.0\n",
      "1 day - EMAV Agent Portfolio Value: 100000.0\n",
      "Running update for interval: 1 day\n",
      "2024-07-24 00:30:13.514246: MAC Hold\n",
      "2024-07-24 00:30:13.515246: Mean Reversion Hold\n",
      "2024-07-24 00:30:13.515246: Momentum Hold\n",
      "2024-07-24 00:30:13.518245: Bollinger Bands Hold\n",
      "2024-07-24 00:30:13.518751: SMA-RSI Hold\n",
      "2024-07-24 00:30:13.520255: Composite Agent Hold\n",
      "2024-07-24 00:30:13.520255: EMA-Volume Hold\n",
      "1 day - MAC Agent Portfolio Value: 100000.0\n",
      "1 day - Dummy Agent Portfolio Value: 100000.0\n",
      "1 day - MeanReversion Agent Portfolio Value: 100000.0\n",
      "1 day - Momentum Agent Portfolio Value: 100000.0\n",
      "1 day - MACD Agent Portfolio Value: 100000.0\n",
      "1 day - BollingerBands Agent Portfolio Value: 100000.0\n",
      "1 day - RSI Agent Portfolio Value: 99915.78292264313\n",
      "1 day - Composite Agent Portfolio Value: 100000.0\n",
      "1 day - EMAV Agent Portfolio Value: 100000.0\n",
      "Running update for interval: 1 day\n",
      "2024-07-24 00:31:13.664713: MAC Hold\n",
      "2024-07-24 00:31:13.664713: Dummy Hold\n",
      "2024-07-24 00:31:13.665715: Mean Reversion Hold\n",
      "2024-07-24 00:31:13.666713: Momentum Hold\n",
      "2024-07-24 00:31:13.668711: Bollinger Bands Hold\n",
      "2024-07-24 00:31:13.670283: SMA-RSI Hold\n",
      "2024-07-24 00:31:13.671290: Composite Agent Hold\n",
      "2024-07-24 00:31:13.671290: EMA-Volume Hold\n",
      "1 day - MAC Agent Portfolio Value: 100000.0\n",
      "1 day - Dummy Agent Portfolio Value: 100000.0\n",
      "1 day - MeanReversion Agent Portfolio Value: 100000.0\n",
      "1 day - Momentum Agent Portfolio Value: 100000.0\n",
      "1 day - MACD Agent Portfolio Value: 100000.0\n",
      "1 day - BollingerBands Agent Portfolio Value: 100000.0\n",
      "1 day - RSI Agent Portfolio Value: 99731.10830976674\n",
      "1 day - Composite Agent Portfolio Value: 100000.0\n",
      "1 day - EMAV Agent Portfolio Value: 100000.0\n",
      "Running update for interval: 1 day\n",
      "2024-07-24 00:32:13.809306: MAC Hold\n",
      "2024-07-24 00:32:13.809306: Dummy Hold\n",
      "2024-07-24 00:32:13.810468: Mean Reversion Hold\n",
      "2024-07-24 00:32:13.810468: Momentum Hold\n",
      "2024-07-24 00:32:13.812566: Bollinger Bands Hold\n",
      "2024-07-24 00:32:13.813619: SMA-RSI Hold\n",
      "2024-07-24 00:32:13.814736: Composite Agent Hold\n",
      "2024-07-24 00:32:13.814736: EMA-Volume Hold\n",
      "1 day - MAC Agent Portfolio Value: 100000.0\n",
      "1 day - Dummy Agent Portfolio Value: 100000.0\n",
      "1 day - MeanReversion Agent Portfolio Value: 100000.0\n",
      "1 day - Momentum Agent Portfolio Value: 100000.0\n",
      "1 day - MACD Agent Portfolio Value: 100000.0\n",
      "1 day - BollingerBands Agent Portfolio Value: 100000.0\n",
      "1 day - RSI Agent Portfolio Value: 99887.81661129206\n",
      "1 day - Composite Agent Portfolio Value: 100000.0\n",
      "1 day - EMAV Agent Portfolio Value: 100000.0\n",
      "Running update for interval: 1 day\n",
      "2024-07-24 00:33:13.958259: Dummy Buy at 65826.01\n",
      "2024-07-24 00:33:13.958259: Mean Reversion Hold\n",
      "2024-07-24 00:33:13.959270: Momentum Hold\n",
      "2024-07-24 00:33:13.961271: Bollinger Bands Hold\n",
      "2024-07-24 00:33:13.962291: SMA-RSI Hold\n",
      "2024-07-24 00:33:13.963606: Composite Agent Hold\n",
      "2024-07-24 00:33:13.963606: EMA-Volume Hold\n",
      "1 day - MAC Agent Portfolio Value: 100000.0\n",
      "1 day - Dummy Agent Portfolio Value: 100000.0\n",
      "1 day - MeanReversion Agent Portfolio Value: 100000.0\n",
      "1 day - Momentum Agent Portfolio Value: 100000.0\n",
      "1 day - MACD Agent Portfolio Value: 100000.0\n",
      "1 day - BollingerBands Agent Portfolio Value: 100000.0\n",
      "1 day - RSI Agent Portfolio Value: 99724.30610294298\n",
      "1 day - Composite Agent Portfolio Value: 100000.0\n",
      "1 day - EMAV Agent Portfolio Value: 100000.0\n"
     ]
    }
   ],
   "source": [
    "# Function to update agents and print portfolio values\n",
    "def update_agents(df, current_time, interval_name):\n",
    "    df = update_data(df)\n",
    "    current_price = df['Close'].iloc[-1]\n",
    "    mac_agent.trade(df)\n",
    "    dummy_agent.trade(df)\n",
    "    mean_reversion_agent.trade(df)\n",
    "    momentum_agent.trade(df)\n",
    "    macd_agent.trade(df)\n",
    "    bollinger_bands_agent.trade(df)\n",
    "    rsi_agent.trade(df)\n",
    "    composite_agent.trade(df)\n",
    "    emav_agent.trade(df)\n",
    "    print(f\"{interval_name} - MAC Agent Portfolio Value: {mac_agent.get_portfolio_value(current_price)}\")\n",
    "    print(f\"{interval_name} - Dummy Agent Portfolio Value: {dummy_agent.get_portfolio_value(current_price)}\")\n",
    "    print(f\"{interval_name} - MeanReversion Agent Portfolio Value: {mean_reversion_agent.get_portfolio_value(current_price)}\")\n",
    "    print(f\"{interval_name} - Momentum Agent Portfolio Value: {momentum_agent.get_portfolio_value(current_price)}\")\n",
    "    print(f\"{interval_name} - MACD Agent Portfolio Value: {macd_agent.get_portfolio_value(current_price)}\")\n",
    "    print(f\"{interval_name} - BollingerBands Agent Portfolio Value: {bollinger_bands_agent.get_portfolio_value(current_price)}\")\n",
    "    print(f\"{interval_name} - RSI Agent Portfolio Value: {rsi_agent.get_portfolio_value(current_price)}\")\n",
    "    print(f\"{interval_name} - Composite Agent Portfolio Value: {composite_agent.get_portfolio_value(current_price)}\")\n",
    "    print(f\"{interval_name} - EMAV Agent Portfolio Value: {emav_agent.get_portfolio_value(current_price)}\")\n",
    "    return df\n",
    "\n",
    "# Define intervals in seconds\n",
    "intervals = {\n",
    "   \n",
    "    \"1 day\": 86400\n",
    "}\n",
    "\n",
    "# Track the last run time for each interval\n",
    "last_run_times = {name: datetime.now() for name in intervals}\n",
    "\n",
    "# Main loop to update data and agents\n",
    "while True:\n",
    "    current_time = datetime.now()\n",
    "    \n",
    "    for interval_name, interval_seconds in intervals.items():\n",
    "        if (current_time - last_run_times[interval_name]).total_seconds() >= interval_seconds:\n",
    "            print(f\"Running update for interval: {interval_name}\")\n",
    "            df = update_agents(df, current_time, interval_name)\n",
    "            last_run_times[interval_name] = current_time\n",
    "    \n",
    "    time.sleep(60)  # Check every minute\n"
   ]
  }
 ],
 "metadata": {
  "kernelspec": {
   "display_name": "Python 3",
   "language": "python",
   "name": "python3"
  },
  "language_info": {
   "codemirror_mode": {
    "name": "ipython",
    "version": 3
   },
   "file_extension": ".py",
   "mimetype": "text/x-python",
   "name": "python",
   "nbconvert_exporter": "python",
   "pygments_lexer": "ipython3",
   "version": "3.11.5"
  }
 },
 "nbformat": 4,
 "nbformat_minor": 5
}
